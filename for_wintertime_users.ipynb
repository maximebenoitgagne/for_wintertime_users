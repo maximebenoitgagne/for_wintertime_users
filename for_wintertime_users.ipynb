{
 "cells": [
  {
   "cell_type": "markdown",
   "id": "83133871",
   "metadata": {},
   "source": [
    "# NetCDF Tutorial"
   ]
  },
  {
   "cell_type": "markdown",
   "id": "1752bbd9",
   "metadata": {},
   "source": [
    "**Maxime Benoît-Gagné**\n",
    "\n",
    "This tutorial was given at the meeting of the Numerical Ecology in\n",
    "Oceanography Laboratory (NEOLab), Université Laval, on April 21, 2023."
   ]
  },
  {
   "cell_type": "markdown",
   "id": "50248567",
   "metadata": {},
   "source": [
    "This Jupyter notebook is part of the project for_wintertime_users\n",
    "containing documentation and examples on how to use\n",
    "the outputs of the default simulation EXP-0 described in\n",
    "Benoît-Gagné et al. (submitted).\n",
    "\n",
    "The documentation and examples are available on:\n",
    "\n",
    "https://github.com/maximebenoitgagne/for_wintertime_users/tree/main.\n",
    "\n",
    "The original project of Benoît-Gagné et al. (submitted) can be found on:\n",
    "\n",
    "https://github.com/maximebenoitgagne/wintertime/tree/v1.5."
   ]
  },
  {
   "cell_type": "markdown",
   "id": "efaffe1e",
   "metadata": {},
   "source": [
    "# Definitions"
   ]
  },
  {
   "cell_type": "markdown",
   "id": "277dfda5",
   "metadata": {},
   "source": [
    "**NetCDF file for a region**:\n",
    "A NetCDF file for many latitudes and many longitudes, for example, a NetCDF file for the whole Baffin Bay.\n",
    "\n",
    "**NetCDF file for a specific location**:\n",
    "A NetCDF file for only one latitude and one longitude, for example, a NetCDF file for the location of an ice camp.\n",
    "\n",
    "**Results of Benoît-Gagné et al. (submitted)**:\n",
    "NetCDF files containing the results of the default simulation of Benoît-Gagné et al. (submitted).\n",
    "The simulation was adapted to the location of the Qikiqtarjuaq sea ice camp in western Baffin Bay (67.4797&deg;N, -63.7895&deg;E) in 2016 during the Green Edge sea ice camp mission.\n",
    "The model was run with a spinup of 10 years to stabilise the system.\n",
    "Use the data of that tenth year.\n",
    "The dimensions of the data are the depth steps and the time steps."
   ]
  },
  {
   "cell_type": "markdown",
   "id": "bb76a243",
   "metadata": {},
   "source": [
    "# What you will learn in this tutorial"
   ]
  },
  {
   "cell_type": "markdown",
   "id": "449f40e3",
   "metadata": {},
   "source": [
    "* Find the results of Benoît-Gagné et al. (submitted).\n",
    "* Understand the structure of the results of Benoît-Gagné et al. (submitted).\n",
    "* Explore the structure of a NetCDF file for a specific location with Panoply.\n",
    "* Plot a NetCDF file for a specific location with Panoply.\n",
    "* Read a NetCDF file for a specific location with Python.*\n",
    "* Export a NetCDF file for a specific location into a comma-separated values (CSV) file with Python.*\n",
    "* Plot a variable from the results of Benoît-Gagné et al. (submitted) with Python.*\n",
    "* Find more examples of Python scripts reading the results of Benoît-Gagné et al. (submitted).*\n",
    "\n",
    "Note: The goals with an asterisk (\\*) have the following prerequisites:\n",
    "\n",
    "* Knowledge of Anaconda.\n",
    "* Basic knowledge of Python."
   ]
  },
  {
   "cell_type": "markdown",
   "id": "05cd39c3",
   "metadata": {},
   "source": [
    "# What you will not learn in this tutorial"
   ]
  },
  {
   "cell_type": "markdown",
   "id": "b63ad45b",
   "metadata": {},
   "source": [
    "* Anaconda.\n",
    "* Python.\n",
    "* Use a NetCDF file for a specific location when the metadata doesn't contain sufficient information to retrieve the depth steps and the time steps of the file. Actually, the only solution would be to ask someone who knows the answer, for example, the human author of the files.\n",
    "* Export a NetCDF file for a specific location into a CSV file with Panoply.\n",
    "* Write a NetCDF file.\n",
    "* Read a NetCDF file for a specific location in R.\n",
    "* Use a NetCDF file for a region."
   ]
  },
  {
   "cell_type": "markdown",
   "id": "0b1a2b5b",
   "metadata": {},
   "source": [
    "# Installation steps"
   ]
  },
  {
   "cell_type": "markdown",
   "id": "c43febb0",
   "metadata": {},
   "source": [
    "These installation steps were tested for MacOS X 10.13 (High Sierra)."
   ]
  },
  {
   "cell_type": "markdown",
   "id": "e385ff61",
   "metadata": {},
   "source": [
    "* Install Panoply (https://www.giss.nasa.gov/tools/panoply/download/).\n",
    "\n",
    "- Install Anaconda for Python 3 as described on \n",
    "  https://datacarpentry.org/python-ecology-lesson/setup.html:\n",
    "  - Go to https://www.anaconda.com/products/distribution.\n",
    "  - Click Download.\n",
    "  - Double-click the graphical installer `.pkg` file.\n",
    "  - Follow the instructions. Select the default settings.\n",
    "  - Verify the installation by entering the following command in the Terminal\n",
    "    (Launchpad icon in the Dock, type Terminal, click Terminal):\n",
    "```\n",
    "conda --help\n",
    "```\n",
    " \n",
    "* Enter the following commands in the Terminal. The creation of the conda environment can take approximately 15 minutes.\n",
    "```\n",
    "git clone git@github.com:maximebenoitgagne/for_wintertime_users.git\n",
    "cd for_wintertime_users/\n",
    "conda env create -f for_wintertime_users.yml\n",
    "conda activate for_wintertime_users\n",
    "jupyter notebook\n",
    "```\n",
    "\n",
    "Once the environment for_wintertime_users is created, the Jupyter notebook can be launched simply with:\n",
    "\n",
    "```\n",
    "cd for_wintertime_users/\n",
    "conda activate for_wintertime_users\n",
    "jupyter notebook\n",
    "```"
   ]
  },
  {
   "cell_type": "markdown",
   "id": "ae19c59a",
   "metadata": {},
   "source": [
    "# Find the data"
   ]
  },
  {
   "cell_type": "markdown",
   "id": "00b57b06",
   "metadata": {},
   "source": [
    "The results of Benoît-Gagné et al. (submitted) are available on\n",
    "https://github.com/maximebenoitgagne/wintertime/tree/v1.5/data/DataS8_output_mitgcm/exp0.\n",
    "Two relatively small files of these results are also in the\n",
    "directory `data` of this project."
   ]
  },
  {
   "cell_type": "markdown",
   "id": "0b29cfbe",
   "metadata": {},
   "source": [
    "![Files](figures/files.png)"
   ]
  },
  {
   "cell_type": "markdown",
   "id": "b37afb28",
   "metadata": {},
   "source": [
    "# Read a NetCDF file with Panoply"
   ]
  },
  {
   "cell_type": "markdown",
   "id": "4741ff73",
   "metadata": {},
   "source": [
    "Panoply is a graphical user interface (GUI) tool to explore and plot NetCDF files."
   ]
  },
  {
   "cell_type": "markdown",
   "id": "7893166b",
   "metadata": {},
   "source": [
    "Steps\n",
    "\n",
    "* Click on Panoply.\n",
    "* Select grid.t001.nc."
   ]
  },
  {
   "cell_type": "markdown",
   "id": "173171aa",
   "metadata": {},
   "source": [
    "![grid.t001.nc](figures/grid.t001.nc.png)"
   ]
  },
  {
   "cell_type": "markdown",
   "id": "bd0acfa5",
   "metadata": {},
   "source": [
    "* Select the variable RC."
   ]
  },
  {
   "cell_type": "markdown",
   "id": "c344ce0c",
   "metadata": {},
   "source": [
    "![RC_01](figures/RC_01.png)"
   ]
  },
  {
   "cell_type": "markdown",
   "id": "ac8c2ee7",
   "metadata": {},
   "source": [
    "We see that the variable RC in grid.t001.nc contains the values of the 75 depth steps."
   ]
  },
  {
   "cell_type": "markdown",
   "id": "6882ca71",
   "metadata": {},
   "source": [
    "* Double-click on RC."
   ]
  },
  {
   "cell_type": "markdown",
   "id": "18375c85",
   "metadata": {},
   "source": [
    "![RC)2](figures/RC_02.png)"
   ]
  },
  {
   "cell_type": "markdown",
   "id": "f7e3a59b",
   "metadata": {},
   "source": [
    "* Click Create."
   ]
  },
  {
   "cell_type": "markdown",
   "id": "3e252f85",
   "metadata": {},
   "source": [
    "![RC_03](figures/RC_03.png)"
   ]
  },
  {
   "cell_type": "markdown",
   "id": "d6c7ab99",
   "metadata": {},
   "source": [
    "* Select tab Array 1."
   ]
  },
  {
   "cell_type": "markdown",
   "id": "53bc3803",
   "metadata": {},
   "source": [
    "![RC_04](figures/RC_04.png)"
   ]
  },
  {
   "cell_type": "markdown",
   "id": "48886265",
   "metadata": {},
   "source": [
    "* Check Show cell indices."
   ]
  },
  {
   "cell_type": "markdown",
   "id": "d7a46f4a",
   "metadata": {},
   "source": [
    "![RC_05](figures/RC_05.png)"
   ]
  },
  {
   "cell_type": "markdown",
   "id": "26ab3336",
   "metadata": {},
   "source": [
    "* Select Format %.6f."
   ]
  },
  {
   "cell_type": "markdown",
   "id": "a28d76cd",
   "metadata": {},
   "source": [
    "![RC_06](figures/RC_06.png)"
   ]
  },
  {
   "cell_type": "markdown",
   "id": "3b7f5ebb",
   "metadata": {},
   "source": [
    "We now see explicitely the values of the 75 depth steps.\n",
    "Note that the vertical grid is irregular.\n",
    "We have to take that into account if we want to transform units by\n",
    "$\\mathrm{ m^{-3} }$ into units by $\\mathrm{ m^{-2} }$."
   ]
  },
  {
   "cell_type": "markdown",
   "id": "7b15895a",
   "metadata": {},
   "source": [
    "We will now open another NetCDF file.\n",
    "We will open rates.0000000000.t001.nc."
   ]
  },
  {
   "cell_type": "markdown",
   "id": "d773c609",
   "metadata": {},
   "source": [
    "* File > Open > rates.0000000000.t001.nc."
   ]
  },
  {
   "cell_type": "markdown",
   "id": "5d5a5ff9",
   "metadata": {},
   "source": [
    "![rates](figures/rates.png)"
   ]
  },
  {
   "cell_type": "markdown",
   "id": "a9b5e315",
   "metadata": {},
   "source": [
    "* Select the variable PP."
   ]
  },
  {
   "cell_type": "markdown",
   "id": "55d16b90",
   "metadata": {},
   "source": [
    "![PP_01](figures/PP_01.png)"
   ]
  },
  {
   "cell_type": "markdown",
   "id": "70d63e0b",
   "metadata": {},
   "source": [
    "We see that the variable PP is the primary production in $\\mathrm{ mmol\\ C\\ m^{-3}\\ s^{-1} }$.\n",
    "The dimension T is the daily time steps over 10 years (10\\*365=3650).\n",
    "The dimension Zmd000075 is the 75 depth steps."
   ]
  },
  {
   "cell_type": "markdown",
   "id": "ea77b45d",
   "metadata": {},
   "source": [
    "# Plot a NetCDF file with Panoply"
   ]
  },
  {
   "cell_type": "markdown",
   "id": "e6975bd7",
   "metadata": {},
   "source": [
    "* Double-click on PP."
   ]
  },
  {
   "cell_type": "markdown",
   "id": "8f3dd18c",
   "metadata": {},
   "source": [
    "![PP_02](figures/PP_02.png)"
   ]
  },
  {
   "cell_type": "markdown",
   "id": "3d8168c9",
   "metadata": {},
   "source": [
    "* Check Create a 2D plot using T for X axis and Zmd000075 for Y axis.\n",
    "* Click Create."
   ]
  },
  {
   "cell_type": "markdown",
   "id": "cb5bcda8",
   "metadata": {},
   "source": [
    "![PP_03](figures/PP_03.png)"
   ]
  },
  {
   "cell_type": "markdown",
   "id": "4f4c7fff",
   "metadata": {},
   "source": [
    "Note that the Y axis contains the indices of the depths and not the values of the depths.\n",
    "The values of the depths are not in the file rates.0000000000.nc.\n",
    "They are only in the variable RC of grid.t001.nc.\n",
    "\n",
    "Note also that the depths on the Y axis are in the reverse order.\n",
    "This is because the first depth index is at the water surface and is\n",
    "shown at the bottom of the plot.\n",
    "We would rather show it at the top of the plot."
   ]
  },
  {
   "cell_type": "markdown",
   "id": "26b5d111",
   "metadata": {},
   "source": [
    "* Grid > Swap B/T."
   ]
  },
  {
   "cell_type": "markdown",
   "id": "9d6f53e1",
   "metadata": {},
   "source": [
    "![PP_04](figures/PP_04.png)"
   ]
  },
  {
   "cell_type": "markdown",
   "id": "aa70d058",
   "metadata": {},
   "source": [
    "We now see the primary productivity over 10 years.\n",
    "We can see the 10 yearly spring blooms.\n",
    "It worths noting again that the Y axis contains the indices of the depths\n",
    "from 0 to 74 and not the values of the depths.\n",
    "\n",
    "To make it clearer, we will show the indices of the depths from 1 to 75\n",
    "instead of 0 to 74.\n",
    "In order to do that:\n",
    "\n",
    "* Y-Axis: Units: Grid Point Index.\n",
    "* Y-Axis: Ticks: Format %.0f.\n",
    "* Swap B/T."
   ]
  },
  {
   "cell_type": "markdown",
   "id": "3213a938",
   "metadata": {},
   "source": [
    "![PP_05](figures/PP_05.png)"
   ]
  },
  {
   "cell_type": "markdown",
   "id": "13309b1a",
   "metadata": {},
   "source": [
    "Verify.\n",
    "\n",
    "* Select tab Array 1."
   ]
  },
  {
   "cell_type": "markdown",
   "id": "2d10ae7d",
   "metadata": {},
   "source": [
    "![PP_06](figures/PP_06.png)"
   ]
  },
  {
   "cell_type": "markdown",
   "id": "2827aea2",
   "metadata": {},
   "source": [
    "* Show cell indices."
   ]
  },
  {
   "cell_type": "markdown",
   "id": "503aea91",
   "metadata": {},
   "source": [
    "![PP_07](figures/PP_07.png)"
   ]
  },
  {
   "cell_type": "markdown",
   "id": "2599f275",
   "metadata": {},
   "source": [
    "We will retrieve the value of the depth at the depth index 15 using\n",
    "the variable RC in grid.t001.nc."
   ]
  },
  {
   "cell_type": "markdown",
   "id": "544c8756",
   "metadata": {},
   "source": [
    "![RC_06](figures/RC_06.png)"
   ]
  },
  {
   "cell_type": "markdown",
   "id": "ca155033",
   "metadata": {},
   "source": [
    "We see that the value of the depth at the depth index 15 is 25.356 m.\n",
    "\n",
    "* Select the tab Plot."
   ]
  },
  {
   "cell_type": "markdown",
   "id": "c4e52a66",
   "metadata": {},
   "source": [
    "![PP_05](figures/PP_05.png)"
   ]
  },
  {
   "cell_type": "markdown",
   "id": "5d3ab97e",
   "metadata": {},
   "source": [
    "To make the rows corresponding to each depth clearer:\n",
    "\n",
    "* Select the tab Array(s).\n",
    "* Uncheck Interpolate."
   ]
  },
  {
   "cell_type": "markdown",
   "id": "b7c0bb4e",
   "metadata": {},
   "source": [
    "![PP_08](figures/PP_08.png)"
   ]
  },
  {
   "cell_type": "markdown",
   "id": "98ab5949",
   "metadata": {},
   "source": [
    "The fifteenth row, just above the tick 15 on the Y-Axis, corresponds to\n",
    "a depth of 25.356 m."
   ]
  },
  {
   "cell_type": "markdown",
   "id": "0da29ae2",
   "metadata": {},
   "source": [
    "We will now make the X-Axis clearer by showing the indices of the time\n",
    "steps.\n",
    "\n",
    "* Select the tab Grid.\n",
    "* X-Axis: Units: Grid Point Index.\n",
    "* X-Axis: Ticks: Format: %.0f."
   ]
  },
  {
   "cell_type": "markdown",
   "id": "96475142",
   "metadata": {},
   "source": [
    "![PP_09](figures/PP_09.png)"
   ]
  },
  {
   "cell_type": "markdown",
   "id": "c5c88c91",
   "metadata": {},
   "source": [
    "The X axis is now the index of the day over the 10 years of the spinup.\n",
    "We want to select only the tenth year.\n",
    "The indices of the X axis will be 365\\*9=3285 (inclusive) to 365\\*10=3650 (exclusive).\n",
    "\n",
    "* X-Axis: Left: 3285."
   ]
  },
  {
   "cell_type": "markdown",
   "id": "90661109",
   "metadata": {},
   "source": [
    "![PP_10](figures/PP_10.png)"
   ]
  },
  {
   "cell_type": "markdown",
   "id": "1a55c49f",
   "metadata": {},
   "source": [
    "It worths noting that the selection of the tenth year in the Grid tab\n",
    "affects only the plot in the tab Plot.\n",
    "It doesn't affect the array in the tab Array 1.\n",
    "The array in the tab Array 1 will continue to contain the values for the\n",
    "10 years."
   ]
  },
  {
   "cell_type": "markdown",
   "id": "e69f48e5",
   "metadata": {},
   "source": [
    "We can improve the precision of the colour bar:\n",
    "\n",
    "* Select tab Scale.\n",
    "* Tick Format: %.6f."
   ]
  },
  {
   "cell_type": "markdown",
   "id": "fe44428d",
   "metadata": {},
   "source": [
    "![PP_11](figures/PP_11.png)"
   ]
  },
  {
   "cell_type": "markdown",
   "id": "baaaef20",
   "metadata": {},
   "source": [
    "We can find a specific numeric value in the tab Array 1.\n",
    "\n",
    "* Select tab Array 1."
   ]
  },
  {
   "cell_type": "markdown",
   "id": "7cdbaa54",
   "metadata": {},
   "source": [
    "![PP_12](figures/PP_12.png)"
   ]
  },
  {
   "cell_type": "markdown",
   "id": "c8a16c86",
   "metadata": {},
   "source": [
    "We can improve the precision.\n",
    "\n",
    "* Format: %.6f."
   ]
  },
  {
   "cell_type": "markdown",
   "id": "499844de",
   "metadata": {},
   "source": [
    "![PP_13](figures/PP_13.png)"
   ]
  },
  {
   "cell_type": "markdown",
   "id": "f1422cfc",
   "metadata": {},
   "source": [
    "We now see explicitely the values of the 75\\*3650 primary productivities.\n",
    "\n",
    "Move the horizontal scroll bar to the right to see some values above 0."
   ]
  },
  {
   "cell_type": "markdown",
   "id": "8673a874",
   "metadata": {},
   "source": [
    "![PP_14](figures/PP_14.png)"
   ]
  },
  {
   "cell_type": "markdown",
   "id": "298c8984",
   "metadata": {},
   "source": [
    "# Read a NetCDF file with Python"
   ]
  },
  {
   "cell_type": "markdown",
   "id": "7aeea94b",
   "metadata": {},
   "source": [
    "## First, load libraries"
   ]
  },
  {
   "cell_type": "code",
   "execution_count": 1,
   "id": "9fa68377",
   "metadata": {},
   "outputs": [],
   "source": [
    "import netCDF4\n",
    "import numpy as np"
   ]
  },
  {
   "cell_type": "markdown",
   "id": "cb8cc8fb",
   "metadata": {},
   "source": [
    "## Select year"
   ]
  },
  {
   "cell_type": "code",
   "execution_count": 2,
   "id": "c91df45b",
   "metadata": {},
   "outputs": [
    {
     "data": {
      "text/plain": [
       "(365,)"
      ]
     },
     "execution_count": 2,
     "metadata": {},
     "output_type": "execute_result"
    }
   ],
   "source": [
    "nbyears=10\n",
    "last_year=np.arange(365*(nbyears-1),365*(nbyears))\n",
    "last_year.shape"
   ]
  },
  {
   "cell_type": "code",
   "execution_count": 3,
   "id": "ce933e44",
   "metadata": {},
   "outputs": [
    {
     "name": "stdout",
     "output_type": "stream",
     "text": [
      "0 3285\n",
      "1 3286\n",
      "2 3287\n",
      "3 3288\n",
      "4 3289\n",
      "5 3290\n",
      "6 3291\n",
      "7 3292\n",
      "8 3293\n",
      "9 3294\n",
      "10 3295\n",
      "11 3296\n",
      "12 3297\n",
      "13 3298\n",
      "14 3299\n",
      "15 3300\n",
      "16 3301\n",
      "17 3302\n",
      "18 3303\n",
      "19 3304\n",
      "20 3305\n",
      "21 3306\n",
      "22 3307\n",
      "23 3308\n",
      "24 3309\n",
      "25 3310\n",
      "26 3311\n",
      "27 3312\n",
      "28 3313\n",
      "29 3314\n",
      "30 3315\n",
      "31 3316\n",
      "32 3317\n",
      "33 3318\n",
      "34 3319\n",
      "35 3320\n",
      "36 3321\n",
      "37 3322\n",
      "38 3323\n",
      "39 3324\n",
      "40 3325\n",
      "41 3326\n",
      "42 3327\n",
      "43 3328\n",
      "44 3329\n",
      "45 3330\n",
      "46 3331\n",
      "47 3332\n",
      "48 3333\n",
      "49 3334\n",
      "50 3335\n",
      "51 3336\n",
      "52 3337\n",
      "53 3338\n",
      "54 3339\n",
      "55 3340\n",
      "56 3341\n",
      "57 3342\n",
      "58 3343\n",
      "59 3344\n",
      "60 3345\n",
      "61 3346\n",
      "62 3347\n",
      "63 3348\n",
      "64 3349\n",
      "65 3350\n",
      "66 3351\n",
      "67 3352\n",
      "68 3353\n",
      "69 3354\n",
      "70 3355\n",
      "71 3356\n",
      "72 3357\n",
      "73 3358\n",
      "74 3359\n",
      "75 3360\n",
      "76 3361\n",
      "77 3362\n",
      "78 3363\n",
      "79 3364\n",
      "80 3365\n",
      "81 3366\n",
      "82 3367\n",
      "83 3368\n",
      "84 3369\n",
      "85 3370\n",
      "86 3371\n",
      "87 3372\n",
      "88 3373\n",
      "89 3374\n",
      "90 3375\n",
      "91 3376\n",
      "92 3377\n",
      "93 3378\n",
      "94 3379\n",
      "95 3380\n",
      "96 3381\n",
      "97 3382\n",
      "98 3383\n",
      "99 3384\n",
      "100 3385\n",
      "101 3386\n",
      "102 3387\n",
      "103 3388\n",
      "104 3389\n",
      "105 3390\n",
      "106 3391\n",
      "107 3392\n",
      "108 3393\n",
      "109 3394\n",
      "110 3395\n",
      "111 3396\n",
      "112 3397\n",
      "113 3398\n",
      "114 3399\n",
      "115 3400\n",
      "116 3401\n",
      "117 3402\n",
      "118 3403\n",
      "119 3404\n",
      "120 3405\n",
      "121 3406\n",
      "122 3407\n",
      "123 3408\n",
      "124 3409\n",
      "125 3410\n",
      "126 3411\n",
      "127 3412\n",
      "128 3413\n",
      "129 3414\n",
      "130 3415\n",
      "131 3416\n",
      "132 3417\n",
      "133 3418\n",
      "134 3419\n",
      "135 3420\n",
      "136 3421\n",
      "137 3422\n",
      "138 3423\n",
      "139 3424\n",
      "140 3425\n",
      "141 3426\n",
      "142 3427\n",
      "143 3428\n",
      "144 3429\n",
      "145 3430\n",
      "146 3431\n",
      "147 3432\n",
      "148 3433\n",
      "149 3434\n",
      "150 3435\n",
      "151 3436\n",
      "152 3437\n",
      "153 3438\n",
      "154 3439\n",
      "155 3440\n",
      "156 3441\n",
      "157 3442\n",
      "158 3443\n",
      "159 3444\n",
      "160 3445\n",
      "161 3446\n",
      "162 3447\n",
      "163 3448\n",
      "164 3449\n",
      "165 3450\n",
      "166 3451\n",
      "167 3452\n",
      "168 3453\n",
      "169 3454\n",
      "170 3455\n",
      "171 3456\n",
      "172 3457\n",
      "173 3458\n",
      "174 3459\n",
      "175 3460\n",
      "176 3461\n",
      "177 3462\n",
      "178 3463\n",
      "179 3464\n",
      "180 3465\n",
      "181 3466\n",
      "182 3467\n",
      "183 3468\n",
      "184 3469\n",
      "185 3470\n",
      "186 3471\n",
      "187 3472\n",
      "188 3473\n",
      "189 3474\n",
      "190 3475\n",
      "191 3476\n",
      "192 3477\n",
      "193 3478\n",
      "194 3479\n",
      "195 3480\n",
      "196 3481\n",
      "197 3482\n",
      "198 3483\n",
      "199 3484\n",
      "200 3485\n",
      "201 3486\n",
      "202 3487\n",
      "203 3488\n",
      "204 3489\n",
      "205 3490\n",
      "206 3491\n",
      "207 3492\n",
      "208 3493\n",
      "209 3494\n",
      "210 3495\n",
      "211 3496\n",
      "212 3497\n",
      "213 3498\n",
      "214 3499\n",
      "215 3500\n",
      "216 3501\n",
      "217 3502\n",
      "218 3503\n",
      "219 3504\n",
      "220 3505\n",
      "221 3506\n",
      "222 3507\n",
      "223 3508\n",
      "224 3509\n",
      "225 3510\n",
      "226 3511\n",
      "227 3512\n",
      "228 3513\n",
      "229 3514\n",
      "230 3515\n",
      "231 3516\n",
      "232 3517\n",
      "233 3518\n",
      "234 3519\n",
      "235 3520\n",
      "236 3521\n",
      "237 3522\n",
      "238 3523\n",
      "239 3524\n",
      "240 3525\n",
      "241 3526\n",
      "242 3527\n",
      "243 3528\n",
      "244 3529\n",
      "245 3530\n",
      "246 3531\n",
      "247 3532\n",
      "248 3533\n",
      "249 3534\n",
      "250 3535\n",
      "251 3536\n",
      "252 3537\n",
      "253 3538\n",
      "254 3539\n",
      "255 3540\n",
      "256 3541\n",
      "257 3542\n",
      "258 3543\n",
      "259 3544\n",
      "260 3545\n",
      "261 3546\n",
      "262 3547\n",
      "263 3548\n",
      "264 3549\n",
      "265 3550\n",
      "266 3551\n",
      "267 3552\n",
      "268 3553\n",
      "269 3554\n",
      "270 3555\n",
      "271 3556\n",
      "272 3557\n",
      "273 3558\n",
      "274 3559\n",
      "275 3560\n",
      "276 3561\n",
      "277 3562\n",
      "278 3563\n",
      "279 3564\n",
      "280 3565\n",
      "281 3566\n",
      "282 3567\n",
      "283 3568\n",
      "284 3569\n",
      "285 3570\n",
      "286 3571\n",
      "287 3572\n",
      "288 3573\n",
      "289 3574\n",
      "290 3575\n",
      "291 3576\n",
      "292 3577\n",
      "293 3578\n",
      "294 3579\n",
      "295 3580\n",
      "296 3581\n",
      "297 3582\n",
      "298 3583\n",
      "299 3584\n",
      "300 3585\n",
      "301 3586\n",
      "302 3587\n",
      "303 3588\n",
      "304 3589\n",
      "305 3590\n",
      "306 3591\n",
      "307 3592\n",
      "308 3593\n",
      "309 3594\n",
      "310 3595\n",
      "311 3596\n",
      "312 3597\n",
      "313 3598\n",
      "314 3599\n",
      "315 3600\n",
      "316 3601\n",
      "317 3602\n",
      "318 3603\n",
      "319 3604\n",
      "320 3605\n",
      "321 3606\n",
      "322 3607\n",
      "323 3608\n",
      "324 3609\n",
      "325 3610\n",
      "326 3611\n",
      "327 3612\n",
      "328 3613\n",
      "329 3614\n",
      "330 3615\n",
      "331 3616\n",
      "332 3617\n",
      "333 3618\n",
      "334 3619\n",
      "335 3620\n",
      "336 3621\n",
      "337 3622\n",
      "338 3623\n",
      "339 3624\n",
      "340 3625\n",
      "341 3626\n",
      "342 3627\n",
      "343 3628\n",
      "344 3629\n",
      "345 3630\n",
      "346 3631\n",
      "347 3632\n",
      "348 3633\n",
      "349 3634\n",
      "350 3635\n",
      "351 3636\n",
      "352 3637\n",
      "353 3638\n",
      "354 3639\n",
      "355 3640\n",
      "356 3641\n",
      "357 3642\n",
      "358 3643\n",
      "359 3644\n",
      "360 3645\n",
      "361 3646\n",
      "362 3647\n",
      "363 3648\n",
      "364 3649\n"
     ]
    }
   ],
   "source": [
    "for i,v in enumerate(last_year):\n",
    "    print(i,v)"
   ]
  },
  {
   "cell_type": "markdown",
   "id": "8b645c69",
   "metadata": {},
   "source": [
    "## Grid"
   ]
  },
  {
   "cell_type": "markdown",
   "id": "006cc87f",
   "metadata": {},
   "source": [
    "See the documentation on the grid of the output of the MITgcm model:\n",
    "https://darwin3.readthedocs.io/en/latest/getting_started/getting_started.html#grid."
   ]
  },
  {
   "cell_type": "markdown",
   "id": "a30c84a1",
   "metadata": {},
   "source": [
    "RC is the r coordinate of cell center (in m)."
   ]
  },
  {
   "cell_type": "code",
   "execution_count": 4,
   "id": "d26bc465",
   "metadata": {},
   "outputs": [],
   "source": [
    "gridfile='data/grid.t001.nc'"
   ]
  },
  {
   "cell_type": "code",
   "execution_count": 5,
   "id": "ee19c2d1",
   "metadata": {},
   "outputs": [],
   "source": [
    "ncfile=gridfile\n",
    "variable='RC'\n",
    "try:\n",
    "    # open the netCDF file for reading\n",
    "    fh=netCDF4.Dataset(ncfile,'r')\n",
    "except:\n",
    "    raise IOError(\"File not found: {}.\".format(ncfile))\n",
    "try:\n",
    "    # read the data in variable named v\n",
    "    RC=fh.variables[variable][:]\n",
    "except:\n",
    "    raise IOError(\"Variable {} not found in {}.\".format(variable, ncfile))\n",
    "fh.close()"
   ]
  },
  {
   "cell_type": "markdown",
   "id": "c214b9cf",
   "metadata": {},
   "source": [
    "We switch sign to have positive depths."
   ]
  },
  {
   "cell_type": "code",
   "execution_count": 6,
   "id": "5ca2eae7",
   "metadata": {},
   "outputs": [
    {
     "data": {
      "text/plain": [
       "(75,)"
      ]
     },
     "execution_count": 6,
     "metadata": {},
     "output_type": "execute_result"
    }
   ],
   "source": [
    "# swith sign\n",
    "RC=-RC\n",
    "RC.shape"
   ]
  },
  {
   "cell_type": "code",
   "execution_count": 7,
   "id": "978ca4b9",
   "metadata": {},
   "outputs": [
    {
     "name": "stdout",
     "output_type": "stream",
     "text": [
      "0 0.5061625\n",
      "1 1.5333449999999997\n",
      "2 2.5948719999999996\n",
      "3 3.7013264999999995\n",
      "4 4.866235\n",
      "5 6.106664499999999\n",
      "6 7.443784999999999\n",
      "7 8.903281\n",
      "8 10.5154235\n",
      "9 12.314566000000001\n",
      "10 14.337813500000001\n",
      "11 16.6226945\n",
      "12 19.203892000000003\n",
      "13 22.109410500000003\n",
      "14 25.356929\n",
      "15 28.9512475\n",
      "16 32.883559500000004\n",
      "17 37.1327755\n",
      "18 41.6684945\n",
      "19 46.454799\n",
      "20 51.453981\n",
      "21 56.6295605\n",
      "22 61.9483055\n",
      "23 67.381287\n",
      "24 72.9041905\n",
      "25 78.4971245\n",
      "26 84.1441395\n",
      "27 89.832647\n",
      "28 95.5528315\n",
      "29 101.2971055\n",
      "30 107.0596445\n",
      "31 112.836004\n",
      "32 118.622804\n",
      "33 124.417478\n",
      "34 130.2180915\n",
      "35 136.02317200000002\n",
      "36 141.8316135\n",
      "37 147.6425875\n",
      "38 153.4554685\n",
      "39 159.269784\n",
      "40 165.08516799999998\n",
      "41 170.9013685\n",
      "42 176.718179\n",
      "43 182.5354395\n",
      "44 188.35304349999998\n",
      "45 194.17090699999997\n",
      "46 199.98896899999997\n",
      "47 205.80717599999997\n",
      "48 211.62548949999996\n",
      "49 217.44388699999996\n",
      "50 223.26235349999996\n",
      "51 229.08086549999996\n",
      "52 234.89940799999997\n",
      "53 240.71797349999997\n",
      "54 246.53655399999997\n",
      "55 252.35515749999996\n",
      "56 258.17376899999994\n",
      "57 263.99238799999995\n",
      "58 269.8110219999999\n",
      "59 275.6296559999999\n",
      "60 281.4482899999999\n",
      "61 287.26692399999985\n",
      "62 293.08557349999984\n",
      "63 298.90422299999983\n",
      "64 304.7228569999998\n",
      "65 310.5415064999998\n",
      "66 316.3601559999998\n",
      "67 322.17878999999976\n",
      "68 327.99743949999976\n",
      "69 333.81608899999975\n",
      "70 339.63473849999974\n",
      "71 345.45338799999973\n",
      "72 351.2720374999997\n",
      "73 357.0906869999997\n",
      "74 362.9093209999997\n"
     ]
    }
   ],
   "source": [
    "for i,v in enumerate(RC):\n",
    "    print(i,v)"
   ]
  },
  {
   "cell_type": "markdown",
   "id": "bca22df2",
   "metadata": {},
   "source": [
    "## Primary productivity"
   ]
  },
  {
   "cell_type": "code",
   "execution_count": 8,
   "id": "e3361859",
   "metadata": {},
   "outputs": [],
   "source": [
    "ppfile='data/rates.0000000000.t001.nc'"
   ]
  },
  {
   "cell_type": "markdown",
   "id": "d079058e",
   "metadata": {},
   "source": [
    "PP is the primary production (in $\\mathrm{ mmol\\ C\\ m^{-3}\\ s^{-1} }$)."
   ]
  },
  {
   "cell_type": "code",
   "execution_count": 9,
   "id": "abeb81ce",
   "metadata": {},
   "outputs": [
    {
     "data": {
      "text/plain": [
       "(3650, 75, 1, 1)"
      ]
     },
     "execution_count": 9,
     "metadata": {},
     "output_type": "execute_result"
    }
   ],
   "source": [
    "ncfile=ppfile\n",
    "variable='PP'\n",
    "try:\n",
    "    # open the netCDF file for reading\n",
    "    fh=netCDF4.Dataset(ncfile,'r')\n",
    "except:\n",
    "    raise IOError(\"File not found: {}.\".format(ncfile))\n",
    "try:\n",
    "    # read the data in variable named v\n",
    "    array2d_idepth_iT_ppfull=fh.variables[variable][:]\n",
    "except:\n",
    "    raise IOError(\"Variable {} not found in {}.\".format(variable, ncfile))\n",
    "fh.close()\n",
    "array2d_idepth_iT_ppfull.shape"
   ]
  },
  {
   "cell_type": "code",
   "execution_count": 10,
   "id": "0176b387",
   "metadata": {},
   "outputs": [
    {
     "data": {
      "text/plain": [
       "(3650, 75)"
      ]
     },
     "execution_count": 10,
     "metadata": {},
     "output_type": "execute_result"
    }
   ],
   "source": [
    "array2d_idepth_iT_ppfull=array2d_idepth_iT_ppfull.squeeze()\n",
    "array2d_idepth_iT_ppfull.shape"
   ]
  },
  {
   "cell_type": "code",
   "execution_count": 11,
   "id": "3b6617b1",
   "metadata": {},
   "outputs": [
    {
     "data": {
      "text/plain": [
       "(75, 3650)"
      ]
     },
     "execution_count": 11,
     "metadata": {},
     "output_type": "execute_result"
    }
   ],
   "source": [
    "array2d_idepth_iT_ppfull=array2d_idepth_iT_ppfull.transpose()\n",
    "array2d_idepth_iT_ppfull.shape"
   ]
  },
  {
   "cell_type": "code",
   "execution_count": 12,
   "id": "c8236962",
   "metadata": {
    "scrolled": true
   },
   "outputs": [
    {
     "data": {
      "text/plain": [
       "(75, 365)"
      ]
     },
     "execution_count": 12,
     "metadata": {},
     "output_type": "execute_result"
    }
   ],
   "source": [
    "array2d_idepth_iT_pp=array2d_idepth_iT_ppfull[:,last_year]\n",
    "array2d_idepth_iT_pp.shape"
   ]
  },
  {
   "cell_type": "markdown",
   "id": "3092f70a",
   "metadata": {},
   "source": [
    "The row is the index of the depth (0-based).\n",
    "The column is the index of the day of year of the tenth year (0-based)."
   ]
  },
  {
   "cell_type": "markdown",
   "id": "2976773b",
   "metadata": {},
   "source": [
    "# Export a NetCDF file into a CSV file with Python"
   ]
  },
  {
   "cell_type": "markdown",
   "id": "4d9efa94",
   "metadata": {},
   "source": [
    "Suppose we want the comma-separated values (CSV) file PP.csv\n",
    "in a wide form (not data matrix form, a.k.a. tidy form) with 366 columns.\n",
    "The first column is the depth in m.\n",
    "The 365 following columns are the days of year.\n",
    "The first row is the headers.\n",
    "The 75 following rows are the depths.\n",
    "\n",
    "```\n",
    "depth_m,doy_001,doy_002,...,doy_365\n",
    "0.5061625,...\n",
    "...\n",
    "362.9093209999997,...\n",
    "```"
   ]
  },
  {
   "cell_type": "markdown",
   "id": "3d34a4ae",
   "metadata": {},
   "source": [
    "First, load libraries."
   ]
  },
  {
   "cell_type": "code",
   "execution_count": 13,
   "id": "26255a16",
   "metadata": {},
   "outputs": [],
   "source": [
    "import pandas as pd"
   ]
  },
  {
   "cell_type": "code",
   "execution_count": 14,
   "id": "39c0a2d8",
   "metadata": {},
   "outputs": [
    {
     "data": {
      "text/html": [
       "<div>\n",
       "<style scoped>\n",
       "    .dataframe tbody tr th:only-of-type {\n",
       "        vertical-align: middle;\n",
       "    }\n",
       "\n",
       "    .dataframe tbody tr th {\n",
       "        vertical-align: top;\n",
       "    }\n",
       "\n",
       "    .dataframe thead th {\n",
       "        text-align: right;\n",
       "    }\n",
       "</style>\n",
       "<table border=\"1\" class=\"dataframe\">\n",
       "  <thead>\n",
       "    <tr style=\"text-align: right;\">\n",
       "      <th></th>\n",
       "      <th>depth_m</th>\n",
       "    </tr>\n",
       "  </thead>\n",
       "  <tbody>\n",
       "    <tr>\n",
       "      <th>0</th>\n",
       "      <td>0.506162</td>\n",
       "    </tr>\n",
       "    <tr>\n",
       "      <th>1</th>\n",
       "      <td>1.533345</td>\n",
       "    </tr>\n",
       "    <tr>\n",
       "      <th>2</th>\n",
       "      <td>2.594872</td>\n",
       "    </tr>\n",
       "    <tr>\n",
       "      <th>3</th>\n",
       "      <td>3.701326</td>\n",
       "    </tr>\n",
       "    <tr>\n",
       "      <th>4</th>\n",
       "      <td>4.866235</td>\n",
       "    </tr>\n",
       "    <tr>\n",
       "      <th>...</th>\n",
       "      <td>...</td>\n",
       "    </tr>\n",
       "    <tr>\n",
       "      <th>70</th>\n",
       "      <td>339.634738</td>\n",
       "    </tr>\n",
       "    <tr>\n",
       "      <th>71</th>\n",
       "      <td>345.453388</td>\n",
       "    </tr>\n",
       "    <tr>\n",
       "      <th>72</th>\n",
       "      <td>351.272037</td>\n",
       "    </tr>\n",
       "    <tr>\n",
       "      <th>73</th>\n",
       "      <td>357.090687</td>\n",
       "    </tr>\n",
       "    <tr>\n",
       "      <th>74</th>\n",
       "      <td>362.909321</td>\n",
       "    </tr>\n",
       "  </tbody>\n",
       "</table>\n",
       "<p>75 rows × 1 columns</p>\n",
       "</div>"
      ],
      "text/plain": [
       "       depth_m\n",
       "0     0.506162\n",
       "1     1.533345\n",
       "2     2.594872\n",
       "3     3.701326\n",
       "4     4.866235\n",
       "..         ...\n",
       "70  339.634738\n",
       "71  345.453388\n",
       "72  351.272037\n",
       "73  357.090687\n",
       "74  362.909321\n",
       "\n",
       "[75 rows x 1 columns]"
      ]
     },
     "execution_count": 14,
     "metadata": {},
     "output_type": "execute_result"
    }
   ],
   "source": [
    "df_depth=pd.DataFrame({'depth_m':RC})\n",
    "df_depth"
   ]
  },
  {
   "cell_type": "code",
   "execution_count": 15,
   "id": "07fd1da2",
   "metadata": {},
   "outputs": [
    {
     "data": {
      "text/plain": [
       "['doy_001',\n",
       " 'doy_002',\n",
       " 'doy_003',\n",
       " 'doy_004',\n",
       " 'doy_005',\n",
       " 'doy_006',\n",
       " 'doy_007',\n",
       " 'doy_008',\n",
       " 'doy_009',\n",
       " 'doy_010',\n",
       " 'doy_011',\n",
       " 'doy_012',\n",
       " 'doy_013',\n",
       " 'doy_014',\n",
       " 'doy_015',\n",
       " 'doy_016',\n",
       " 'doy_017',\n",
       " 'doy_018',\n",
       " 'doy_019',\n",
       " 'doy_020',\n",
       " 'doy_021',\n",
       " 'doy_022',\n",
       " 'doy_023',\n",
       " 'doy_024',\n",
       " 'doy_025',\n",
       " 'doy_026',\n",
       " 'doy_027',\n",
       " 'doy_028',\n",
       " 'doy_029',\n",
       " 'doy_030',\n",
       " 'doy_031',\n",
       " 'doy_032',\n",
       " 'doy_033',\n",
       " 'doy_034',\n",
       " 'doy_035',\n",
       " 'doy_036',\n",
       " 'doy_037',\n",
       " 'doy_038',\n",
       " 'doy_039',\n",
       " 'doy_040',\n",
       " 'doy_041',\n",
       " 'doy_042',\n",
       " 'doy_043',\n",
       " 'doy_044',\n",
       " 'doy_045',\n",
       " 'doy_046',\n",
       " 'doy_047',\n",
       " 'doy_048',\n",
       " 'doy_049',\n",
       " 'doy_050',\n",
       " 'doy_051',\n",
       " 'doy_052',\n",
       " 'doy_053',\n",
       " 'doy_054',\n",
       " 'doy_055',\n",
       " 'doy_056',\n",
       " 'doy_057',\n",
       " 'doy_058',\n",
       " 'doy_059',\n",
       " 'doy_060',\n",
       " 'doy_061',\n",
       " 'doy_062',\n",
       " 'doy_063',\n",
       " 'doy_064',\n",
       " 'doy_065',\n",
       " 'doy_066',\n",
       " 'doy_067',\n",
       " 'doy_068',\n",
       " 'doy_069',\n",
       " 'doy_070',\n",
       " 'doy_071',\n",
       " 'doy_072',\n",
       " 'doy_073',\n",
       " 'doy_074',\n",
       " 'doy_075',\n",
       " 'doy_076',\n",
       " 'doy_077',\n",
       " 'doy_078',\n",
       " 'doy_079',\n",
       " 'doy_080',\n",
       " 'doy_081',\n",
       " 'doy_082',\n",
       " 'doy_083',\n",
       " 'doy_084',\n",
       " 'doy_085',\n",
       " 'doy_086',\n",
       " 'doy_087',\n",
       " 'doy_088',\n",
       " 'doy_089',\n",
       " 'doy_090',\n",
       " 'doy_091',\n",
       " 'doy_092',\n",
       " 'doy_093',\n",
       " 'doy_094',\n",
       " 'doy_095',\n",
       " 'doy_096',\n",
       " 'doy_097',\n",
       " 'doy_098',\n",
       " 'doy_099',\n",
       " 'doy_100',\n",
       " 'doy_101',\n",
       " 'doy_102',\n",
       " 'doy_103',\n",
       " 'doy_104',\n",
       " 'doy_105',\n",
       " 'doy_106',\n",
       " 'doy_107',\n",
       " 'doy_108',\n",
       " 'doy_109',\n",
       " 'doy_110',\n",
       " 'doy_111',\n",
       " 'doy_112',\n",
       " 'doy_113',\n",
       " 'doy_114',\n",
       " 'doy_115',\n",
       " 'doy_116',\n",
       " 'doy_117',\n",
       " 'doy_118',\n",
       " 'doy_119',\n",
       " 'doy_120',\n",
       " 'doy_121',\n",
       " 'doy_122',\n",
       " 'doy_123',\n",
       " 'doy_124',\n",
       " 'doy_125',\n",
       " 'doy_126',\n",
       " 'doy_127',\n",
       " 'doy_128',\n",
       " 'doy_129',\n",
       " 'doy_130',\n",
       " 'doy_131',\n",
       " 'doy_132',\n",
       " 'doy_133',\n",
       " 'doy_134',\n",
       " 'doy_135',\n",
       " 'doy_136',\n",
       " 'doy_137',\n",
       " 'doy_138',\n",
       " 'doy_139',\n",
       " 'doy_140',\n",
       " 'doy_141',\n",
       " 'doy_142',\n",
       " 'doy_143',\n",
       " 'doy_144',\n",
       " 'doy_145',\n",
       " 'doy_146',\n",
       " 'doy_147',\n",
       " 'doy_148',\n",
       " 'doy_149',\n",
       " 'doy_150',\n",
       " 'doy_151',\n",
       " 'doy_152',\n",
       " 'doy_153',\n",
       " 'doy_154',\n",
       " 'doy_155',\n",
       " 'doy_156',\n",
       " 'doy_157',\n",
       " 'doy_158',\n",
       " 'doy_159',\n",
       " 'doy_160',\n",
       " 'doy_161',\n",
       " 'doy_162',\n",
       " 'doy_163',\n",
       " 'doy_164',\n",
       " 'doy_165',\n",
       " 'doy_166',\n",
       " 'doy_167',\n",
       " 'doy_168',\n",
       " 'doy_169',\n",
       " 'doy_170',\n",
       " 'doy_171',\n",
       " 'doy_172',\n",
       " 'doy_173',\n",
       " 'doy_174',\n",
       " 'doy_175',\n",
       " 'doy_176',\n",
       " 'doy_177',\n",
       " 'doy_178',\n",
       " 'doy_179',\n",
       " 'doy_180',\n",
       " 'doy_181',\n",
       " 'doy_182',\n",
       " 'doy_183',\n",
       " 'doy_184',\n",
       " 'doy_185',\n",
       " 'doy_186',\n",
       " 'doy_187',\n",
       " 'doy_188',\n",
       " 'doy_189',\n",
       " 'doy_190',\n",
       " 'doy_191',\n",
       " 'doy_192',\n",
       " 'doy_193',\n",
       " 'doy_194',\n",
       " 'doy_195',\n",
       " 'doy_196',\n",
       " 'doy_197',\n",
       " 'doy_198',\n",
       " 'doy_199',\n",
       " 'doy_200',\n",
       " 'doy_201',\n",
       " 'doy_202',\n",
       " 'doy_203',\n",
       " 'doy_204',\n",
       " 'doy_205',\n",
       " 'doy_206',\n",
       " 'doy_207',\n",
       " 'doy_208',\n",
       " 'doy_209',\n",
       " 'doy_210',\n",
       " 'doy_211',\n",
       " 'doy_212',\n",
       " 'doy_213',\n",
       " 'doy_214',\n",
       " 'doy_215',\n",
       " 'doy_216',\n",
       " 'doy_217',\n",
       " 'doy_218',\n",
       " 'doy_219',\n",
       " 'doy_220',\n",
       " 'doy_221',\n",
       " 'doy_222',\n",
       " 'doy_223',\n",
       " 'doy_224',\n",
       " 'doy_225',\n",
       " 'doy_226',\n",
       " 'doy_227',\n",
       " 'doy_228',\n",
       " 'doy_229',\n",
       " 'doy_230',\n",
       " 'doy_231',\n",
       " 'doy_232',\n",
       " 'doy_233',\n",
       " 'doy_234',\n",
       " 'doy_235',\n",
       " 'doy_236',\n",
       " 'doy_237',\n",
       " 'doy_238',\n",
       " 'doy_239',\n",
       " 'doy_240',\n",
       " 'doy_241',\n",
       " 'doy_242',\n",
       " 'doy_243',\n",
       " 'doy_244',\n",
       " 'doy_245',\n",
       " 'doy_246',\n",
       " 'doy_247',\n",
       " 'doy_248',\n",
       " 'doy_249',\n",
       " 'doy_250',\n",
       " 'doy_251',\n",
       " 'doy_252',\n",
       " 'doy_253',\n",
       " 'doy_254',\n",
       " 'doy_255',\n",
       " 'doy_256',\n",
       " 'doy_257',\n",
       " 'doy_258',\n",
       " 'doy_259',\n",
       " 'doy_260',\n",
       " 'doy_261',\n",
       " 'doy_262',\n",
       " 'doy_263',\n",
       " 'doy_264',\n",
       " 'doy_265',\n",
       " 'doy_266',\n",
       " 'doy_267',\n",
       " 'doy_268',\n",
       " 'doy_269',\n",
       " 'doy_270',\n",
       " 'doy_271',\n",
       " 'doy_272',\n",
       " 'doy_273',\n",
       " 'doy_274',\n",
       " 'doy_275',\n",
       " 'doy_276',\n",
       " 'doy_277',\n",
       " 'doy_278',\n",
       " 'doy_279',\n",
       " 'doy_280',\n",
       " 'doy_281',\n",
       " 'doy_282',\n",
       " 'doy_283',\n",
       " 'doy_284',\n",
       " 'doy_285',\n",
       " 'doy_286',\n",
       " 'doy_287',\n",
       " 'doy_288',\n",
       " 'doy_289',\n",
       " 'doy_290',\n",
       " 'doy_291',\n",
       " 'doy_292',\n",
       " 'doy_293',\n",
       " 'doy_294',\n",
       " 'doy_295',\n",
       " 'doy_296',\n",
       " 'doy_297',\n",
       " 'doy_298',\n",
       " 'doy_299',\n",
       " 'doy_300',\n",
       " 'doy_301',\n",
       " 'doy_302',\n",
       " 'doy_303',\n",
       " 'doy_304',\n",
       " 'doy_305',\n",
       " 'doy_306',\n",
       " 'doy_307',\n",
       " 'doy_308',\n",
       " 'doy_309',\n",
       " 'doy_310',\n",
       " 'doy_311',\n",
       " 'doy_312',\n",
       " 'doy_313',\n",
       " 'doy_314',\n",
       " 'doy_315',\n",
       " 'doy_316',\n",
       " 'doy_317',\n",
       " 'doy_318',\n",
       " 'doy_319',\n",
       " 'doy_320',\n",
       " 'doy_321',\n",
       " 'doy_322',\n",
       " 'doy_323',\n",
       " 'doy_324',\n",
       " 'doy_325',\n",
       " 'doy_326',\n",
       " 'doy_327',\n",
       " 'doy_328',\n",
       " 'doy_329',\n",
       " 'doy_330',\n",
       " 'doy_331',\n",
       " 'doy_332',\n",
       " 'doy_333',\n",
       " 'doy_334',\n",
       " 'doy_335',\n",
       " 'doy_336',\n",
       " 'doy_337',\n",
       " 'doy_338',\n",
       " 'doy_339',\n",
       " 'doy_340',\n",
       " 'doy_341',\n",
       " 'doy_342',\n",
       " 'doy_343',\n",
       " 'doy_344',\n",
       " 'doy_345',\n",
       " 'doy_346',\n",
       " 'doy_347',\n",
       " 'doy_348',\n",
       " 'doy_349',\n",
       " 'doy_350',\n",
       " 'doy_351',\n",
       " 'doy_352',\n",
       " 'doy_353',\n",
       " 'doy_354',\n",
       " 'doy_355',\n",
       " 'doy_356',\n",
       " 'doy_357',\n",
       " 'doy_358',\n",
       " 'doy_359',\n",
       " 'doy_360',\n",
       " 'doy_361',\n",
       " 'doy_362',\n",
       " 'doy_363',\n",
       " 'doy_364',\n",
       " 'doy_365']"
      ]
     },
     "execution_count": 15,
     "metadata": {},
     "output_type": "execute_result"
    }
   ],
   "source": [
    "df_PP_names=['doy_{0:03}'.format(i) for i in range(1,366)]\n",
    "df_PP_names"
   ]
  },
  {
   "cell_type": "code",
   "execution_count": 16,
   "id": "d9b7cfac",
   "metadata": {
    "scrolled": true
   },
   "outputs": [
    {
     "data": {
      "text/html": [
       "<div>\n",
       "<style scoped>\n",
       "    .dataframe tbody tr th:only-of-type {\n",
       "        vertical-align: middle;\n",
       "    }\n",
       "\n",
       "    .dataframe tbody tr th {\n",
       "        vertical-align: top;\n",
       "    }\n",
       "\n",
       "    .dataframe thead th {\n",
       "        text-align: right;\n",
       "    }\n",
       "</style>\n",
       "<table border=\"1\" class=\"dataframe\">\n",
       "  <thead>\n",
       "    <tr style=\"text-align: right;\">\n",
       "      <th></th>\n",
       "      <th>doy_001</th>\n",
       "      <th>doy_002</th>\n",
       "      <th>doy_003</th>\n",
       "      <th>doy_004</th>\n",
       "      <th>doy_005</th>\n",
       "      <th>doy_006</th>\n",
       "      <th>doy_007</th>\n",
       "      <th>doy_008</th>\n",
       "      <th>doy_009</th>\n",
       "      <th>doy_010</th>\n",
       "      <th>...</th>\n",
       "      <th>doy_356</th>\n",
       "      <th>doy_357</th>\n",
       "      <th>doy_358</th>\n",
       "      <th>doy_359</th>\n",
       "      <th>doy_360</th>\n",
       "      <th>doy_361</th>\n",
       "      <th>doy_362</th>\n",
       "      <th>doy_363</th>\n",
       "      <th>doy_364</th>\n",
       "      <th>doy_365</th>\n",
       "    </tr>\n",
       "  </thead>\n",
       "  <tbody>\n",
       "    <tr>\n",
       "      <th>0</th>\n",
       "      <td>0.0</td>\n",
       "      <td>0.0</td>\n",
       "      <td>0.0</td>\n",
       "      <td>0.0</td>\n",
       "      <td>0.0</td>\n",
       "      <td>3.003517e-12</td>\n",
       "      <td>9.562626e-12</td>\n",
       "      <td>3.982557e-11</td>\n",
       "      <td>6.567130e-11</td>\n",
       "      <td>6.554848e-11</td>\n",
       "      <td>...</td>\n",
       "      <td>0.0</td>\n",
       "      <td>0.0</td>\n",
       "      <td>0.0</td>\n",
       "      <td>0.0</td>\n",
       "      <td>0.0</td>\n",
       "      <td>0.0</td>\n",
       "      <td>0.0</td>\n",
       "      <td>0.0</td>\n",
       "      <td>0.0</td>\n",
       "      <td>0.0</td>\n",
       "    </tr>\n",
       "    <tr>\n",
       "      <th>1</th>\n",
       "      <td>0.0</td>\n",
       "      <td>0.0</td>\n",
       "      <td>0.0</td>\n",
       "      <td>0.0</td>\n",
       "      <td>0.0</td>\n",
       "      <td>2.746950e-12</td>\n",
       "      <td>9.208227e-12</td>\n",
       "      <td>3.840060e-11</td>\n",
       "      <td>6.336488e-11</td>\n",
       "      <td>6.324807e-11</td>\n",
       "      <td>...</td>\n",
       "      <td>0.0</td>\n",
       "      <td>0.0</td>\n",
       "      <td>0.0</td>\n",
       "      <td>0.0</td>\n",
       "      <td>0.0</td>\n",
       "      <td>0.0</td>\n",
       "      <td>0.0</td>\n",
       "      <td>0.0</td>\n",
       "      <td>0.0</td>\n",
       "      <td>0.0</td>\n",
       "    </tr>\n",
       "    <tr>\n",
       "      <th>2</th>\n",
       "      <td>0.0</td>\n",
       "      <td>0.0</td>\n",
       "      <td>0.0</td>\n",
       "      <td>0.0</td>\n",
       "      <td>0.0</td>\n",
       "      <td>2.635478e-12</td>\n",
       "      <td>8.835832e-12</td>\n",
       "      <td>3.689539e-11</td>\n",
       "      <td>6.092277e-11</td>\n",
       "      <td>6.081262e-11</td>\n",
       "      <td>...</td>\n",
       "      <td>0.0</td>\n",
       "      <td>0.0</td>\n",
       "      <td>0.0</td>\n",
       "      <td>0.0</td>\n",
       "      <td>0.0</td>\n",
       "      <td>0.0</td>\n",
       "      <td>0.0</td>\n",
       "      <td>0.0</td>\n",
       "      <td>0.0</td>\n",
       "      <td>0.0</td>\n",
       "    </tr>\n",
       "    <tr>\n",
       "      <th>3</th>\n",
       "      <td>0.0</td>\n",
       "      <td>0.0</td>\n",
       "      <td>0.0</td>\n",
       "      <td>0.0</td>\n",
       "      <td>0.0</td>\n",
       "      <td>2.376848e-12</td>\n",
       "      <td>8.455584e-12</td>\n",
       "      <td>3.535327e-11</td>\n",
       "      <td>5.841642e-11</td>\n",
       "      <td>5.831308e-11</td>\n",
       "      <td>...</td>\n",
       "      <td>0.0</td>\n",
       "      <td>0.0</td>\n",
       "      <td>0.0</td>\n",
       "      <td>0.0</td>\n",
       "      <td>0.0</td>\n",
       "      <td>0.0</td>\n",
       "      <td>0.0</td>\n",
       "      <td>0.0</td>\n",
       "      <td>0.0</td>\n",
       "      <td>0.0</td>\n",
       "    </tr>\n",
       "    <tr>\n",
       "      <th>4</th>\n",
       "      <td>0.0</td>\n",
       "      <td>0.0</td>\n",
       "      <td>0.0</td>\n",
       "      <td>0.0</td>\n",
       "      <td>0.0</td>\n",
       "      <td>2.267716e-12</td>\n",
       "      <td>8.068476e-12</td>\n",
       "      <td>3.377870e-11</td>\n",
       "      <td>5.585338e-11</td>\n",
       "      <td>5.575687e-11</td>\n",
       "      <td>...</td>\n",
       "      <td>0.0</td>\n",
       "      <td>0.0</td>\n",
       "      <td>0.0</td>\n",
       "      <td>0.0</td>\n",
       "      <td>0.0</td>\n",
       "      <td>0.0</td>\n",
       "      <td>0.0</td>\n",
       "      <td>0.0</td>\n",
       "      <td>0.0</td>\n",
       "      <td>0.0</td>\n",
       "    </tr>\n",
       "    <tr>\n",
       "      <th>...</th>\n",
       "      <td>...</td>\n",
       "      <td>...</td>\n",
       "      <td>...</td>\n",
       "      <td>...</td>\n",
       "      <td>...</td>\n",
       "      <td>...</td>\n",
       "      <td>...</td>\n",
       "      <td>...</td>\n",
       "      <td>...</td>\n",
       "      <td>...</td>\n",
       "      <td>...</td>\n",
       "      <td>...</td>\n",
       "      <td>...</td>\n",
       "      <td>...</td>\n",
       "      <td>...</td>\n",
       "      <td>...</td>\n",
       "      <td>...</td>\n",
       "      <td>...</td>\n",
       "      <td>...</td>\n",
       "      <td>...</td>\n",
       "      <td>...</td>\n",
       "    </tr>\n",
       "    <tr>\n",
       "      <th>70</th>\n",
       "      <td>0.0</td>\n",
       "      <td>0.0</td>\n",
       "      <td>0.0</td>\n",
       "      <td>0.0</td>\n",
       "      <td>0.0</td>\n",
       "      <td>0.000000e+00</td>\n",
       "      <td>0.000000e+00</td>\n",
       "      <td>0.000000e+00</td>\n",
       "      <td>0.000000e+00</td>\n",
       "      <td>0.000000e+00</td>\n",
       "      <td>...</td>\n",
       "      <td>0.0</td>\n",
       "      <td>0.0</td>\n",
       "      <td>0.0</td>\n",
       "      <td>0.0</td>\n",
       "      <td>0.0</td>\n",
       "      <td>0.0</td>\n",
       "      <td>0.0</td>\n",
       "      <td>0.0</td>\n",
       "      <td>0.0</td>\n",
       "      <td>0.0</td>\n",
       "    </tr>\n",
       "    <tr>\n",
       "      <th>71</th>\n",
       "      <td>0.0</td>\n",
       "      <td>0.0</td>\n",
       "      <td>0.0</td>\n",
       "      <td>0.0</td>\n",
       "      <td>0.0</td>\n",
       "      <td>0.000000e+00</td>\n",
       "      <td>0.000000e+00</td>\n",
       "      <td>0.000000e+00</td>\n",
       "      <td>0.000000e+00</td>\n",
       "      <td>0.000000e+00</td>\n",
       "      <td>...</td>\n",
       "      <td>0.0</td>\n",
       "      <td>0.0</td>\n",
       "      <td>0.0</td>\n",
       "      <td>0.0</td>\n",
       "      <td>0.0</td>\n",
       "      <td>0.0</td>\n",
       "      <td>0.0</td>\n",
       "      <td>0.0</td>\n",
       "      <td>0.0</td>\n",
       "      <td>0.0</td>\n",
       "    </tr>\n",
       "    <tr>\n",
       "      <th>72</th>\n",
       "      <td>0.0</td>\n",
       "      <td>0.0</td>\n",
       "      <td>0.0</td>\n",
       "      <td>0.0</td>\n",
       "      <td>0.0</td>\n",
       "      <td>0.000000e+00</td>\n",
       "      <td>0.000000e+00</td>\n",
       "      <td>0.000000e+00</td>\n",
       "      <td>0.000000e+00</td>\n",
       "      <td>0.000000e+00</td>\n",
       "      <td>...</td>\n",
       "      <td>0.0</td>\n",
       "      <td>0.0</td>\n",
       "      <td>0.0</td>\n",
       "      <td>0.0</td>\n",
       "      <td>0.0</td>\n",
       "      <td>0.0</td>\n",
       "      <td>0.0</td>\n",
       "      <td>0.0</td>\n",
       "      <td>0.0</td>\n",
       "      <td>0.0</td>\n",
       "    </tr>\n",
       "    <tr>\n",
       "      <th>73</th>\n",
       "      <td>0.0</td>\n",
       "      <td>0.0</td>\n",
       "      <td>0.0</td>\n",
       "      <td>0.0</td>\n",
       "      <td>0.0</td>\n",
       "      <td>0.000000e+00</td>\n",
       "      <td>0.000000e+00</td>\n",
       "      <td>0.000000e+00</td>\n",
       "      <td>0.000000e+00</td>\n",
       "      <td>0.000000e+00</td>\n",
       "      <td>...</td>\n",
       "      <td>0.0</td>\n",
       "      <td>0.0</td>\n",
       "      <td>0.0</td>\n",
       "      <td>0.0</td>\n",
       "      <td>0.0</td>\n",
       "      <td>0.0</td>\n",
       "      <td>0.0</td>\n",
       "      <td>0.0</td>\n",
       "      <td>0.0</td>\n",
       "      <td>0.0</td>\n",
       "    </tr>\n",
       "    <tr>\n",
       "      <th>74</th>\n",
       "      <td>0.0</td>\n",
       "      <td>0.0</td>\n",
       "      <td>0.0</td>\n",
       "      <td>0.0</td>\n",
       "      <td>0.0</td>\n",
       "      <td>0.000000e+00</td>\n",
       "      <td>0.000000e+00</td>\n",
       "      <td>0.000000e+00</td>\n",
       "      <td>0.000000e+00</td>\n",
       "      <td>0.000000e+00</td>\n",
       "      <td>...</td>\n",
       "      <td>0.0</td>\n",
       "      <td>0.0</td>\n",
       "      <td>0.0</td>\n",
       "      <td>0.0</td>\n",
       "      <td>0.0</td>\n",
       "      <td>0.0</td>\n",
       "      <td>0.0</td>\n",
       "      <td>0.0</td>\n",
       "      <td>0.0</td>\n",
       "      <td>0.0</td>\n",
       "    </tr>\n",
       "  </tbody>\n",
       "</table>\n",
       "<p>75 rows × 365 columns</p>\n",
       "</div>"
      ],
      "text/plain": [
       "    doy_001  doy_002  doy_003  doy_004  doy_005       doy_006       doy_007  \\\n",
       "0       0.0      0.0      0.0      0.0      0.0  3.003517e-12  9.562626e-12   \n",
       "1       0.0      0.0      0.0      0.0      0.0  2.746950e-12  9.208227e-12   \n",
       "2       0.0      0.0      0.0      0.0      0.0  2.635478e-12  8.835832e-12   \n",
       "3       0.0      0.0      0.0      0.0      0.0  2.376848e-12  8.455584e-12   \n",
       "4       0.0      0.0      0.0      0.0      0.0  2.267716e-12  8.068476e-12   \n",
       "..      ...      ...      ...      ...      ...           ...           ...   \n",
       "70      0.0      0.0      0.0      0.0      0.0  0.000000e+00  0.000000e+00   \n",
       "71      0.0      0.0      0.0      0.0      0.0  0.000000e+00  0.000000e+00   \n",
       "72      0.0      0.0      0.0      0.0      0.0  0.000000e+00  0.000000e+00   \n",
       "73      0.0      0.0      0.0      0.0      0.0  0.000000e+00  0.000000e+00   \n",
       "74      0.0      0.0      0.0      0.0      0.0  0.000000e+00  0.000000e+00   \n",
       "\n",
       "         doy_008       doy_009       doy_010  ...  doy_356  doy_357  doy_358  \\\n",
       "0   3.982557e-11  6.567130e-11  6.554848e-11  ...      0.0      0.0      0.0   \n",
       "1   3.840060e-11  6.336488e-11  6.324807e-11  ...      0.0      0.0      0.0   \n",
       "2   3.689539e-11  6.092277e-11  6.081262e-11  ...      0.0      0.0      0.0   \n",
       "3   3.535327e-11  5.841642e-11  5.831308e-11  ...      0.0      0.0      0.0   \n",
       "4   3.377870e-11  5.585338e-11  5.575687e-11  ...      0.0      0.0      0.0   \n",
       "..           ...           ...           ...  ...      ...      ...      ...   \n",
       "70  0.000000e+00  0.000000e+00  0.000000e+00  ...      0.0      0.0      0.0   \n",
       "71  0.000000e+00  0.000000e+00  0.000000e+00  ...      0.0      0.0      0.0   \n",
       "72  0.000000e+00  0.000000e+00  0.000000e+00  ...      0.0      0.0      0.0   \n",
       "73  0.000000e+00  0.000000e+00  0.000000e+00  ...      0.0      0.0      0.0   \n",
       "74  0.000000e+00  0.000000e+00  0.000000e+00  ...      0.0      0.0      0.0   \n",
       "\n",
       "    doy_359  doy_360  doy_361  doy_362  doy_363  doy_364  doy_365  \n",
       "0       0.0      0.0      0.0      0.0      0.0      0.0      0.0  \n",
       "1       0.0      0.0      0.0      0.0      0.0      0.0      0.0  \n",
       "2       0.0      0.0      0.0      0.0      0.0      0.0      0.0  \n",
       "3       0.0      0.0      0.0      0.0      0.0      0.0      0.0  \n",
       "4       0.0      0.0      0.0      0.0      0.0      0.0      0.0  \n",
       "..      ...      ...      ...      ...      ...      ...      ...  \n",
       "70      0.0      0.0      0.0      0.0      0.0      0.0      0.0  \n",
       "71      0.0      0.0      0.0      0.0      0.0      0.0      0.0  \n",
       "72      0.0      0.0      0.0      0.0      0.0      0.0      0.0  \n",
       "73      0.0      0.0      0.0      0.0      0.0      0.0      0.0  \n",
       "74      0.0      0.0      0.0      0.0      0.0      0.0      0.0  \n",
       "\n",
       "[75 rows x 365 columns]"
      ]
     },
     "execution_count": 16,
     "metadata": {},
     "output_type": "execute_result"
    }
   ],
   "source": [
    "df_PP=pd.DataFrame(array2d_idepth_iT_pp)\n",
    "df_PP.columns=df_PP_names\n",
    "df_PP"
   ]
  },
  {
   "cell_type": "code",
   "execution_count": 17,
   "id": "3ee1f0d9",
   "metadata": {
    "scrolled": true
   },
   "outputs": [
    {
     "data": {
      "text/html": [
       "<div>\n",
       "<style scoped>\n",
       "    .dataframe tbody tr th:only-of-type {\n",
       "        vertical-align: middle;\n",
       "    }\n",
       "\n",
       "    .dataframe tbody tr th {\n",
       "        vertical-align: top;\n",
       "    }\n",
       "\n",
       "    .dataframe thead th {\n",
       "        text-align: right;\n",
       "    }\n",
       "</style>\n",
       "<table border=\"1\" class=\"dataframe\">\n",
       "  <thead>\n",
       "    <tr style=\"text-align: right;\">\n",
       "      <th></th>\n",
       "      <th>depth_m</th>\n",
       "      <th>doy_001</th>\n",
       "      <th>doy_002</th>\n",
       "      <th>doy_003</th>\n",
       "      <th>doy_004</th>\n",
       "      <th>doy_005</th>\n",
       "      <th>doy_006</th>\n",
       "      <th>doy_007</th>\n",
       "      <th>doy_008</th>\n",
       "      <th>doy_009</th>\n",
       "      <th>...</th>\n",
       "      <th>doy_356</th>\n",
       "      <th>doy_357</th>\n",
       "      <th>doy_358</th>\n",
       "      <th>doy_359</th>\n",
       "      <th>doy_360</th>\n",
       "      <th>doy_361</th>\n",
       "      <th>doy_362</th>\n",
       "      <th>doy_363</th>\n",
       "      <th>doy_364</th>\n",
       "      <th>doy_365</th>\n",
       "    </tr>\n",
       "  </thead>\n",
       "  <tbody>\n",
       "    <tr>\n",
       "      <th>0</th>\n",
       "      <td>0.506162</td>\n",
       "      <td>0.0</td>\n",
       "      <td>0.0</td>\n",
       "      <td>0.0</td>\n",
       "      <td>0.0</td>\n",
       "      <td>0.0</td>\n",
       "      <td>3.003517e-12</td>\n",
       "      <td>9.562626e-12</td>\n",
       "      <td>3.982557e-11</td>\n",
       "      <td>6.567130e-11</td>\n",
       "      <td>...</td>\n",
       "      <td>0.0</td>\n",
       "      <td>0.0</td>\n",
       "      <td>0.0</td>\n",
       "      <td>0.0</td>\n",
       "      <td>0.0</td>\n",
       "      <td>0.0</td>\n",
       "      <td>0.0</td>\n",
       "      <td>0.0</td>\n",
       "      <td>0.0</td>\n",
       "      <td>0.0</td>\n",
       "    </tr>\n",
       "    <tr>\n",
       "      <th>1</th>\n",
       "      <td>1.533345</td>\n",
       "      <td>0.0</td>\n",
       "      <td>0.0</td>\n",
       "      <td>0.0</td>\n",
       "      <td>0.0</td>\n",
       "      <td>0.0</td>\n",
       "      <td>2.746950e-12</td>\n",
       "      <td>9.208227e-12</td>\n",
       "      <td>3.840060e-11</td>\n",
       "      <td>6.336488e-11</td>\n",
       "      <td>...</td>\n",
       "      <td>0.0</td>\n",
       "      <td>0.0</td>\n",
       "      <td>0.0</td>\n",
       "      <td>0.0</td>\n",
       "      <td>0.0</td>\n",
       "      <td>0.0</td>\n",
       "      <td>0.0</td>\n",
       "      <td>0.0</td>\n",
       "      <td>0.0</td>\n",
       "      <td>0.0</td>\n",
       "    </tr>\n",
       "    <tr>\n",
       "      <th>2</th>\n",
       "      <td>2.594872</td>\n",
       "      <td>0.0</td>\n",
       "      <td>0.0</td>\n",
       "      <td>0.0</td>\n",
       "      <td>0.0</td>\n",
       "      <td>0.0</td>\n",
       "      <td>2.635478e-12</td>\n",
       "      <td>8.835832e-12</td>\n",
       "      <td>3.689539e-11</td>\n",
       "      <td>6.092277e-11</td>\n",
       "      <td>...</td>\n",
       "      <td>0.0</td>\n",
       "      <td>0.0</td>\n",
       "      <td>0.0</td>\n",
       "      <td>0.0</td>\n",
       "      <td>0.0</td>\n",
       "      <td>0.0</td>\n",
       "      <td>0.0</td>\n",
       "      <td>0.0</td>\n",
       "      <td>0.0</td>\n",
       "      <td>0.0</td>\n",
       "    </tr>\n",
       "    <tr>\n",
       "      <th>3</th>\n",
       "      <td>3.701326</td>\n",
       "      <td>0.0</td>\n",
       "      <td>0.0</td>\n",
       "      <td>0.0</td>\n",
       "      <td>0.0</td>\n",
       "      <td>0.0</td>\n",
       "      <td>2.376848e-12</td>\n",
       "      <td>8.455584e-12</td>\n",
       "      <td>3.535327e-11</td>\n",
       "      <td>5.841642e-11</td>\n",
       "      <td>...</td>\n",
       "      <td>0.0</td>\n",
       "      <td>0.0</td>\n",
       "      <td>0.0</td>\n",
       "      <td>0.0</td>\n",
       "      <td>0.0</td>\n",
       "      <td>0.0</td>\n",
       "      <td>0.0</td>\n",
       "      <td>0.0</td>\n",
       "      <td>0.0</td>\n",
       "      <td>0.0</td>\n",
       "    </tr>\n",
       "    <tr>\n",
       "      <th>4</th>\n",
       "      <td>4.866235</td>\n",
       "      <td>0.0</td>\n",
       "      <td>0.0</td>\n",
       "      <td>0.0</td>\n",
       "      <td>0.0</td>\n",
       "      <td>0.0</td>\n",
       "      <td>2.267716e-12</td>\n",
       "      <td>8.068476e-12</td>\n",
       "      <td>3.377870e-11</td>\n",
       "      <td>5.585338e-11</td>\n",
       "      <td>...</td>\n",
       "      <td>0.0</td>\n",
       "      <td>0.0</td>\n",
       "      <td>0.0</td>\n",
       "      <td>0.0</td>\n",
       "      <td>0.0</td>\n",
       "      <td>0.0</td>\n",
       "      <td>0.0</td>\n",
       "      <td>0.0</td>\n",
       "      <td>0.0</td>\n",
       "      <td>0.0</td>\n",
       "    </tr>\n",
       "    <tr>\n",
       "      <th>...</th>\n",
       "      <td>...</td>\n",
       "      <td>...</td>\n",
       "      <td>...</td>\n",
       "      <td>...</td>\n",
       "      <td>...</td>\n",
       "      <td>...</td>\n",
       "      <td>...</td>\n",
       "      <td>...</td>\n",
       "      <td>...</td>\n",
       "      <td>...</td>\n",
       "      <td>...</td>\n",
       "      <td>...</td>\n",
       "      <td>...</td>\n",
       "      <td>...</td>\n",
       "      <td>...</td>\n",
       "      <td>...</td>\n",
       "      <td>...</td>\n",
       "      <td>...</td>\n",
       "      <td>...</td>\n",
       "      <td>...</td>\n",
       "      <td>...</td>\n",
       "    </tr>\n",
       "    <tr>\n",
       "      <th>70</th>\n",
       "      <td>339.634738</td>\n",
       "      <td>0.0</td>\n",
       "      <td>0.0</td>\n",
       "      <td>0.0</td>\n",
       "      <td>0.0</td>\n",
       "      <td>0.0</td>\n",
       "      <td>0.000000e+00</td>\n",
       "      <td>0.000000e+00</td>\n",
       "      <td>0.000000e+00</td>\n",
       "      <td>0.000000e+00</td>\n",
       "      <td>...</td>\n",
       "      <td>0.0</td>\n",
       "      <td>0.0</td>\n",
       "      <td>0.0</td>\n",
       "      <td>0.0</td>\n",
       "      <td>0.0</td>\n",
       "      <td>0.0</td>\n",
       "      <td>0.0</td>\n",
       "      <td>0.0</td>\n",
       "      <td>0.0</td>\n",
       "      <td>0.0</td>\n",
       "    </tr>\n",
       "    <tr>\n",
       "      <th>71</th>\n",
       "      <td>345.453388</td>\n",
       "      <td>0.0</td>\n",
       "      <td>0.0</td>\n",
       "      <td>0.0</td>\n",
       "      <td>0.0</td>\n",
       "      <td>0.0</td>\n",
       "      <td>0.000000e+00</td>\n",
       "      <td>0.000000e+00</td>\n",
       "      <td>0.000000e+00</td>\n",
       "      <td>0.000000e+00</td>\n",
       "      <td>...</td>\n",
       "      <td>0.0</td>\n",
       "      <td>0.0</td>\n",
       "      <td>0.0</td>\n",
       "      <td>0.0</td>\n",
       "      <td>0.0</td>\n",
       "      <td>0.0</td>\n",
       "      <td>0.0</td>\n",
       "      <td>0.0</td>\n",
       "      <td>0.0</td>\n",
       "      <td>0.0</td>\n",
       "    </tr>\n",
       "    <tr>\n",
       "      <th>72</th>\n",
       "      <td>351.272037</td>\n",
       "      <td>0.0</td>\n",
       "      <td>0.0</td>\n",
       "      <td>0.0</td>\n",
       "      <td>0.0</td>\n",
       "      <td>0.0</td>\n",
       "      <td>0.000000e+00</td>\n",
       "      <td>0.000000e+00</td>\n",
       "      <td>0.000000e+00</td>\n",
       "      <td>0.000000e+00</td>\n",
       "      <td>...</td>\n",
       "      <td>0.0</td>\n",
       "      <td>0.0</td>\n",
       "      <td>0.0</td>\n",
       "      <td>0.0</td>\n",
       "      <td>0.0</td>\n",
       "      <td>0.0</td>\n",
       "      <td>0.0</td>\n",
       "      <td>0.0</td>\n",
       "      <td>0.0</td>\n",
       "      <td>0.0</td>\n",
       "    </tr>\n",
       "    <tr>\n",
       "      <th>73</th>\n",
       "      <td>357.090687</td>\n",
       "      <td>0.0</td>\n",
       "      <td>0.0</td>\n",
       "      <td>0.0</td>\n",
       "      <td>0.0</td>\n",
       "      <td>0.0</td>\n",
       "      <td>0.000000e+00</td>\n",
       "      <td>0.000000e+00</td>\n",
       "      <td>0.000000e+00</td>\n",
       "      <td>0.000000e+00</td>\n",
       "      <td>...</td>\n",
       "      <td>0.0</td>\n",
       "      <td>0.0</td>\n",
       "      <td>0.0</td>\n",
       "      <td>0.0</td>\n",
       "      <td>0.0</td>\n",
       "      <td>0.0</td>\n",
       "      <td>0.0</td>\n",
       "      <td>0.0</td>\n",
       "      <td>0.0</td>\n",
       "      <td>0.0</td>\n",
       "    </tr>\n",
       "    <tr>\n",
       "      <th>74</th>\n",
       "      <td>362.909321</td>\n",
       "      <td>0.0</td>\n",
       "      <td>0.0</td>\n",
       "      <td>0.0</td>\n",
       "      <td>0.0</td>\n",
       "      <td>0.0</td>\n",
       "      <td>0.000000e+00</td>\n",
       "      <td>0.000000e+00</td>\n",
       "      <td>0.000000e+00</td>\n",
       "      <td>0.000000e+00</td>\n",
       "      <td>...</td>\n",
       "      <td>0.0</td>\n",
       "      <td>0.0</td>\n",
       "      <td>0.0</td>\n",
       "      <td>0.0</td>\n",
       "      <td>0.0</td>\n",
       "      <td>0.0</td>\n",
       "      <td>0.0</td>\n",
       "      <td>0.0</td>\n",
       "      <td>0.0</td>\n",
       "      <td>0.0</td>\n",
       "    </tr>\n",
       "  </tbody>\n",
       "</table>\n",
       "<p>75 rows × 366 columns</p>\n",
       "</div>"
      ],
      "text/plain": [
       "       depth_m  doy_001  doy_002  doy_003  doy_004  doy_005       doy_006  \\\n",
       "0     0.506162      0.0      0.0      0.0      0.0      0.0  3.003517e-12   \n",
       "1     1.533345      0.0      0.0      0.0      0.0      0.0  2.746950e-12   \n",
       "2     2.594872      0.0      0.0      0.0      0.0      0.0  2.635478e-12   \n",
       "3     3.701326      0.0      0.0      0.0      0.0      0.0  2.376848e-12   \n",
       "4     4.866235      0.0      0.0      0.0      0.0      0.0  2.267716e-12   \n",
       "..         ...      ...      ...      ...      ...      ...           ...   \n",
       "70  339.634738      0.0      0.0      0.0      0.0      0.0  0.000000e+00   \n",
       "71  345.453388      0.0      0.0      0.0      0.0      0.0  0.000000e+00   \n",
       "72  351.272037      0.0      0.0      0.0      0.0      0.0  0.000000e+00   \n",
       "73  357.090687      0.0      0.0      0.0      0.0      0.0  0.000000e+00   \n",
       "74  362.909321      0.0      0.0      0.0      0.0      0.0  0.000000e+00   \n",
       "\n",
       "         doy_007       doy_008       doy_009  ...  doy_356  doy_357  doy_358  \\\n",
       "0   9.562626e-12  3.982557e-11  6.567130e-11  ...      0.0      0.0      0.0   \n",
       "1   9.208227e-12  3.840060e-11  6.336488e-11  ...      0.0      0.0      0.0   \n",
       "2   8.835832e-12  3.689539e-11  6.092277e-11  ...      0.0      0.0      0.0   \n",
       "3   8.455584e-12  3.535327e-11  5.841642e-11  ...      0.0      0.0      0.0   \n",
       "4   8.068476e-12  3.377870e-11  5.585338e-11  ...      0.0      0.0      0.0   \n",
       "..           ...           ...           ...  ...      ...      ...      ...   \n",
       "70  0.000000e+00  0.000000e+00  0.000000e+00  ...      0.0      0.0      0.0   \n",
       "71  0.000000e+00  0.000000e+00  0.000000e+00  ...      0.0      0.0      0.0   \n",
       "72  0.000000e+00  0.000000e+00  0.000000e+00  ...      0.0      0.0      0.0   \n",
       "73  0.000000e+00  0.000000e+00  0.000000e+00  ...      0.0      0.0      0.0   \n",
       "74  0.000000e+00  0.000000e+00  0.000000e+00  ...      0.0      0.0      0.0   \n",
       "\n",
       "    doy_359  doy_360  doy_361  doy_362  doy_363  doy_364  doy_365  \n",
       "0       0.0      0.0      0.0      0.0      0.0      0.0      0.0  \n",
       "1       0.0      0.0      0.0      0.0      0.0      0.0      0.0  \n",
       "2       0.0      0.0      0.0      0.0      0.0      0.0      0.0  \n",
       "3       0.0      0.0      0.0      0.0      0.0      0.0      0.0  \n",
       "4       0.0      0.0      0.0      0.0      0.0      0.0      0.0  \n",
       "..      ...      ...      ...      ...      ...      ...      ...  \n",
       "70      0.0      0.0      0.0      0.0      0.0      0.0      0.0  \n",
       "71      0.0      0.0      0.0      0.0      0.0      0.0      0.0  \n",
       "72      0.0      0.0      0.0      0.0      0.0      0.0      0.0  \n",
       "73      0.0      0.0      0.0      0.0      0.0      0.0      0.0  \n",
       "74      0.0      0.0      0.0      0.0      0.0      0.0      0.0  \n",
       "\n",
       "[75 rows x 366 columns]"
      ]
     },
     "execution_count": 17,
     "metadata": {},
     "output_type": "execute_result"
    }
   ],
   "source": [
    "df=pd.concat([df_depth,df_PP],axis='columns')\n",
    "df"
   ]
  },
  {
   "cell_type": "code",
   "execution_count": 18,
   "id": "ddf7a125",
   "metadata": {},
   "outputs": [],
   "source": [
    "outfile='PP.csv'\n",
    "df.to_csv(outfile,index=False)"
   ]
  },
  {
   "cell_type": "markdown",
   "id": "32d718cf",
   "metadata": {},
   "source": [
    "![PP.csv](figures/PP.csv.png)"
   ]
  },
  {
   "cell_type": "markdown",
   "id": "5d8f5ba1",
   "metadata": {},
   "source": [
    "# Plot a NetCDF file with Python"
   ]
  },
  {
   "cell_type": "markdown",
   "id": "f20c6354",
   "metadata": {},
   "source": [
    "First, load libraries."
   ]
  },
  {
   "cell_type": "code",
   "execution_count": 19,
   "id": "8394887c",
   "metadata": {},
   "outputs": [],
   "source": [
    "import matplotlib as mpl\n",
    "import matplotlib.pyplot as plt"
   ]
  },
  {
   "cell_type": "code",
   "execution_count": 20,
   "id": "6329a6c0",
   "metadata": {},
   "outputs": [],
   "source": [
    "plt.close(\"all\")"
   ]
  },
  {
   "cell_type": "markdown",
   "id": "347eccf6",
   "metadata": {},
   "source": [
    "one_year_for_heatmaps is the coordinates on the X-Axis of the corners\n",
    "of quadrilaterals of the pcolormesh\n",
    "(see https://matplotlib.org/stable/api/_as_gen/matplotlib.pyplot.pcolormesh.html)."
   ]
  },
  {
   "cell_type": "code",
   "execution_count": 21,
   "id": "6a5dea86",
   "metadata": {},
   "outputs": [],
   "source": [
    "one_year_for_heatmaps=np.arange(0,366)"
   ]
  },
  {
   "cell_type": "markdown",
   "id": "a9a7f932",
   "metadata": {},
   "source": [
    "RF_above100 is the coordinates on the Y-Axis of the corners\n",
    "of quadrilaterals of the pcolormesh.\n",
    "We decide to show only the top 100 m."
   ]
  },
  {
   "cell_type": "markdown",
   "id": "505fb5fa",
   "metadata": {},
   "source": [
    "See the documentation on the grid of the output of the MITgcm model:\n",
    "https://darwin3.readthedocs.io/en/latest/getting_started/getting_started.html#grid."
   ]
  },
  {
   "cell_type": "markdown",
   "id": "2a96b3b2",
   "metadata": {},
   "source": [
    "RF is the r coordinate of cell interface (in m)."
   ]
  },
  {
   "cell_type": "code",
   "execution_count": 22,
   "id": "1aa523b1",
   "metadata": {},
   "outputs": [],
   "source": [
    "gridfile='data/grid.t001.nc'"
   ]
  },
  {
   "cell_type": "code",
   "execution_count": 23,
   "id": "ce9a0570",
   "metadata": {},
   "outputs": [],
   "source": [
    "ncfile=gridfile\n",
    "variable='RF'\n",
    "try:\n",
    "    # open the netCDF file for reading\n",
    "    fh=netCDF4.Dataset(ncfile,'r')\n",
    "except:\n",
    "    raise IOError(\"File not found: {}.\".format(ncfile))\n",
    "try:\n",
    "    # read the data in variable named v\n",
    "    RF=fh.variables[variable][:]\n",
    "except:\n",
    "    raise IOError(\"Variable {} not found in {}.\".format(variable, ncfile))\n",
    "fh.close()"
   ]
  },
  {
   "cell_type": "markdown",
   "id": "49627542",
   "metadata": {},
   "source": [
    "We switch sign to have positive depths."
   ]
  },
  {
   "cell_type": "code",
   "execution_count": 24,
   "id": "3e0a240c",
   "metadata": {},
   "outputs": [
    {
     "data": {
      "text/plain": [
       "(76,)"
      ]
     },
     "execution_count": 24,
     "metadata": {},
     "output_type": "execute_result"
    }
   ],
   "source": [
    "# swith sign\n",
    "RF=-RF\n",
    "RF.shape"
   ]
  },
  {
   "cell_type": "code",
   "execution_count": 25,
   "id": "4158dbad",
   "metadata": {},
   "outputs": [
    {
     "name": "stdout",
     "output_type": "stream",
     "text": [
      "0 -0.0\n",
      "1 1.012325\n",
      "2 2.0543649999999998\n",
      "3 3.1353789999999995\n",
      "4 4.267274\n",
      "5 5.465196\n",
      "6 6.748132999999999\n",
      "7 8.139437\n",
      "8 9.667124999999999\n",
      "9 11.363722\n",
      "10 13.26541\n",
      "11 15.410217\n",
      "12 17.835172\n",
      "13 20.572612\n",
      "14 23.646209\n",
      "15 27.067649\n",
      "16 30.834846\n",
      "17 34.932272999999995\n",
      "18 39.33327799999999\n",
      "19 44.003710999999996\n",
      "20 48.90588699999999\n",
      "21 54.00207499999999\n",
      "22 59.25704599999999\n",
      "23 64.63956499999999\n",
      "24 70.123009\n",
      "25 75.685372\n",
      "26 81.308877\n",
      "27 86.979402\n",
      "28 92.685892\n",
      "29 98.419771\n",
      "30 104.17444\n",
      "31 109.944849\n",
      "32 115.727159\n",
      "33 121.518449\n",
      "34 127.316507\n",
      "35 133.119676\n",
      "36 138.926668\n",
      "37 144.736559\n",
      "38 150.548616\n",
      "39 156.362321\n",
      "40 162.17724700000002\n",
      "41 167.99308900000003\n",
      "42 173.80964800000004\n",
      "43 179.62671000000003\n",
      "44 185.44416900000004\n",
      "45 191.26191800000004\n",
      "46 197.07989600000005\n",
      "47 202.89804200000006\n",
      "48 208.71631000000005\n",
      "49 214.53466900000004\n",
      "50 220.35310500000003\n",
      "51 226.17160200000004\n",
      "52 231.99012900000002\n",
      "53 237.80868700000002\n",
      "54 243.62726\n",
      "55 249.445848\n",
      "56 255.26446700000002\n",
      "57 261.083071\n",
      "58 266.901705\n",
      "59 272.72033899999997\n",
      "60 278.53897299999994\n",
      "61 284.3576069999999\n",
      "62 290.1762409999999\n",
      "63 295.9949059999999\n",
      "64 301.8135399999999\n",
      "65 307.63217399999985\n",
      "66 313.45083899999986\n",
      "67 319.26947299999983\n",
      "68 325.0881069999998\n",
      "69 330.9067719999998\n",
      "70 336.7254059999998\n",
      "71 342.5440709999998\n",
      "72 348.3627049999998\n",
      "73 354.1813699999998\n",
      "74 360.00000399999976\n",
      "75 365.81863799999974\n"
     ]
    }
   ],
   "source": [
    "for i,v in enumerate(RF):\n",
    "    print(i,v)"
   ]
  },
  {
   "cell_type": "code",
   "execution_count": 26,
   "id": "c422fa80",
   "metadata": {},
   "outputs": [],
   "source": [
    "RF_above100=np.array(RF[RF<100])"
   ]
  },
  {
   "cell_type": "code",
   "execution_count": 27,
   "id": "62ae9412",
   "metadata": {
    "scrolled": false
   },
   "outputs": [
    {
     "data": {
      "image/png": "[encoded data removed]",
      "text/plain": [
       "<Figure size 1600x1600 with 2 Axes>"
      ]
     },
     "metadata": {},
     "output_type": "display_data"
    }
   ],
   "source": [
    "def make_plots(ax):\n",
    "    locs=np.array([0, 31, 59, 90, 120, 151,\n",
    "              181, 212, 243, 273, 304, 334])\n",
    "    labels=('Jan-1','Feb-1','Mar-1','Apr-1','May-1','Jun-1',\n",
    "            'Jul-1','Aug-1','Sep-1','Oct-1','Nov-1','Dec-1')\n",
    "    h=ax.pcolormesh(one_year_for_heatmaps,\n",
    "                    RF_above100,\n",
    "                    array2d_idepth_iT_pp[0:(RF_above100.size)-1,:],\n",
    "                    cmap='viridis',\n",
    "                    vmin=0,\n",
    "                    vmax=0.00004)\n",
    "    ax.set_xticklabels([])\n",
    "    ax.set_xticks(locs)\n",
    "    ax.set_xticklabels(labels)\n",
    "    ax.set_ylabel('Depth (m)')\n",
    "    ax.set_ylim(98.5,0)\n",
    "    ax.grid()\n",
    "    cbar=plt.colorbar(h)\n",
    "    cbar.set_label('($\\mathrm{ mmol\\ C\\ m^{-3}\\ s^{-1} }$)')\n",
    "    \n",
    "    plt.tight_layout()\n",
    "\n",
    "with plt.style.context('mplstyles/heatmaps.mplstyle'):\n",
    "    # Plot\n",
    "    fig=plt.figure(figsize=(16, 16))\n",
    "    ax=fig.add_subplot(111)\n",
    "    make_plots(ax)\n",
    "\n",
    "    # --- SAVE\n",
    "    plt.savefig('figures/PP.png')\n",
    "    plt.show()"
   ]
  },
  {
   "cell_type": "markdown",
   "id": "be02fc21",
   "metadata": {},
   "source": [
    "# More examples in Python"
   ]
  },
  {
   "cell_type": "markdown",
   "id": "9be94633",
   "metadata": {},
   "source": [
    "Other examples of Python scripts reading the results of\n",
    "Benoît-Gagné et al. (submitted) are available on\n",
    "https://github.com/maximebenoitgagne/wintertime/blob/v1.5/wintertime.ipynb."
   ]
  }
 ],
 "metadata": {
  "kernelspec": {
   "display_name": "Python 3 (ipykernel)",
   "language": "python",
   "name": "python3"
  },
  "language_info": {
   "codemirror_mode": {
    "name": "ipython",
    "version": 3
   },
   "file_extension": ".py",
   "mimetype": "text/x-python",
   "name": "python",
   "nbconvert_exporter": "python",
   "pygments_lexer": "ipython3",
   "version": "3.7.12"
  }
 },
 "nbformat": 4,
 "nbformat_minor": 5
}
